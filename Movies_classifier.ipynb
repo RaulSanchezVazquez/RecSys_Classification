{
 "cells": [
  {
   "cell_type": "code",
   "execution_count": 1,
   "metadata": {},
   "outputs": [],
   "source": [
    "%load_ext autoreload\n",
    "%autoreload 2\n",
    "\n",
    "%matplotlib inline\n",
    "\n",
    "import warnings; warnings.simplefilter('ignore')\n",
    "\n",
    "import os\n",
    "import time\n",
    "import scipy\n",
    "import pandas as pd\n",
    "import numpy as np\n",
    "import matplotlib.pyplot as plt\n",
    "\n",
    "from lightfm import LightFM\n",
    "from lightfm.evaluation import precision_at_k, auc_score\n",
    "\n",
    "import parallel\n",
    "import evalutils\n",
    "\n",
    "N_JOBS = 6\n",
    "ORI_ID_USER = 'userId'\n",
    "ORI_ID_ITEM = 'movieId'\n",
    "\n",
    "SEQ_ID_USER = 'user_id'\n",
    "SEQ_ID_ITEM = 'item_id'\n",
    "\n",
    "SOURCE = os.path.expanduser(\"~/RecSys_Classification\")\n",
    "\n",
    "#Read Data\n",
    "train = pd.read_hdf(\n",
    "    os.path.join(SOURCE, 'data/train.hdf'))\n",
    "\n",
    "test = pd.read_hdf(\n",
    "    os.path.join(SOURCE, 'data/test.hdf'))\n",
    "\n",
    "item_catalogue = pd.read_hdf(\n",
    "    os.path.join(SOURCE, 'data/item_catalogue.hdf'))\n",
    "\n",
    "i_features = pd.read_hdf(\n",
    "    os.path.join(SOURCE, 'data/i_features.hdf'))\n",
    "i_features.sort_values(SEQ_ID_ITEM, inplace=True)\n",
    "\n",
    "user_id_translator = pd.concat(\n",
    "    [train, test], axis=0\n",
    ").drop_duplicates([\n",
    "    SEQ_ID_USER])[[ORI_ID_USER, SEQ_ID_USER]]\n",
    "user_id_translator.sort_values(SEQ_ID_USER, inplace=True)\n",
    "\n",
    "item_id_translator = pd.concat(\n",
    "    [train, test], axis=0\n",
    ").drop_duplicates([\n",
    "    SEQ_ID_ITEM])[[ORI_ID_ITEM, SEQ_ID_ITEM]]\n",
    "item_id_translator.sort_values(SEQ_ID_ITEM, inplace=True)"
   ]
  },
  {
   "cell_type": "markdown",
   "metadata": {},
   "source": [
    "# Summary"
   ]
  },
  {
   "cell_type": "code",
   "execution_count": 2,
   "metadata": {},
   "outputs": [],
   "source": [
    "# genre_features = []\n",
    "# language_features = []\n",
    "# for c in i_features.columns:\n",
    "#     if 'genre' in c:\n",
    "#         genre_features.append(c)\n",
    "#     if 'language' in c:\n",
    "#         language_features.append(c)\n",
    "\n",
    "# i_features = i_features[genre_features]"
   ]
  },
  {
   "cell_type": "code",
   "execution_count": 3,
   "metadata": {},
   "outputs": [
    {
     "name": "stdout",
     "output_type": "stream",
     "text": [
      "num users: 123981 num items: 2479 (Transactions)\n"
     ]
    }
   ],
   "source": [
    "userids = set(\n",
    "    train[SEQ_ID_USER]\n",
    ").union(\n",
    "    test[SEQ_ID_USER])\n",
    "\n",
    "itemids = set(\n",
    "    train[SEQ_ID_ITEM]\n",
    ").union(\n",
    "    test[SEQ_ID_ITEM])\n",
    "\n",
    "num_users = len(userids)\n",
    "num_items = len(itemids)\n",
    "\n",
    "print(\"num users: %s num items: %s (Transactions)\" % (\n",
    "    num_users, \n",
    "    num_items))"
   ]
  },
  {
   "cell_type": "markdown",
   "metadata": {},
   "source": [
    "## RecSys Train/Test Matrix and User/Item Feature Matrix"
   ]
  },
  {
   "cell_type": "code",
   "execution_count": 4,
   "metadata": {},
   "outputs": [
    {
     "data": {
      "text/plain": [
       "<123981x2479 sparse matrix of type '<class 'numpy.float64'>'\n",
       "\twith 1377335 stored elements in COOrdinate format>"
      ]
     },
     "execution_count": 4,
     "metadata": {},
     "output_type": "execute_result"
    }
   ],
   "source": [
    "train_coo = scipy.sparse.coo_matrix(\n",
    "        (\n",
    "            np.ones(train.shape[0]),\n",
    "            (train[SEQ_ID_USER], train[SEQ_ID_ITEM])\n",
    "        ),\n",
    "        shape=(num_users, num_items))\n",
    "train_coo"
   ]
  },
  {
   "cell_type": "code",
   "execution_count": 5,
   "metadata": {},
   "outputs": [
    {
     "data": {
      "text/plain": [
       "<123981x2479 sparse matrix of type '<class 'numpy.float64'>'\n",
       "\twith 136919 stored elements in COOrdinate format>"
      ]
     },
     "execution_count": 5,
     "metadata": {},
     "output_type": "execute_result"
    }
   ],
   "source": [
    "test_coo = scipy.sparse.coo_matrix(\n",
    "        (\n",
    "            np.ones(test.shape[0]),\n",
    "            (test[SEQ_ID_USER], test[SEQ_ID_ITEM])\n",
    "        ),\n",
    "        shape=(num_users, num_items))\n",
    "test_coo"
   ]
  },
  {
   "cell_type": "markdown",
   "metadata": {},
   "source": [
    "# Train The RecSys Model"
   ]
  },
  {
   "cell_type": "code",
   "execution_count": 6,
   "metadata": {},
   "outputs": [
    {
     "name": "stdout",
     "output_type": "stream",
     "text": [
      "[epoch: 2]\n",
      "\tTrain AUC: 0.5248435.5\n",
      "\tTest AUC: 0.4944502.5\n",
      "Elapsed Time: 0.56min\n",
      "[epoch: 4]\n",
      "\tTrain AUC: 0.5225752.5\n",
      "\tTest AUC: 0.49444008.5\n",
      "Elapsed Time: 0.55min\n",
      "[epoch: 6]\n",
      "\tTrain AUC: 0.5217162.5\n",
      "\tTest AUC: 0.49443302.5\n",
      "Elapsed Time: 0.55min\n",
      "[epoch: 8]\n",
      "\tTrain AUC: 0.52130556.5\n",
      "\tTest AUC: 0.494431.5\n",
      "Elapsed Time: 0.58min\n",
      "[epoch: 10]\n",
      "\tTrain AUC: 0.52105474.5\n",
      "\tTest AUC: 0.49444374.5\n",
      "Elapsed Time: 0.58min\n",
      "[epoch: 12]\n",
      "\tTrain AUC: 0.5208256.5\n",
      "\tTest AUC: 0.4944427.5\n",
      "Elapsed Time: 0.58min\n",
      "[epoch: 14]\n",
      "\tTrain AUC: 0.5207323.5\n",
      "\tTest AUC: 0.4944416.5\n",
      "Elapsed Time: 0.57min\n",
      "[epoch: 16]\n",
      "\tTrain AUC: 0.52058977.5\n",
      "\tTest AUC: 0.49444026.5\n",
      "Elapsed Time: 0.55min\n",
      "[epoch: 18]\n",
      "\tTrain AUC: 0.5204378.5\n",
      "\tTest AUC: 0.49443933.5\n",
      "Elapsed Time: 0.59min\n",
      "[epoch: 20]\n",
      "\tTrain AUC: 0.5203329.5\n",
      "\tTest AUC: 0.4944386.5\n",
      "Elapsed Time: 0.54min\n",
      "[epoch: 22]\n",
      "\tTrain AUC: 0.5202544.5\n",
      "\tTest AUC: 0.49443784.5\n",
      "Elapsed Time: 0.56min\n",
      "[epoch: 24]\n",
      "\tTrain AUC: 0.5202023.5\n",
      "\tTest AUC: 0.49443716.5\n",
      "Elapsed Time: 0.54min\n",
      "[epoch: 26]\n",
      "\tTrain AUC: 0.5201766.5\n",
      "\tTest AUC: 0.49443647.5\n",
      "Elapsed Time: 0.58min\n",
      "[epoch: 28]\n",
      "\tTrain AUC: 0.520126.5\n",
      "\tTest AUC: 0.49443597.5\n",
      "Elapsed Time: 0.56min\n",
      "[epoch: 30]\n",
      "\tTrain AUC: 0.5201081.5\n",
      "\tTest AUC: 0.49443558.5\n",
      "Elapsed Time: 0.58min\n",
      "[epoch: 32]\n",
      "\tTrain AUC: 0.5200908.5\n",
      "\tTest AUC: 0.49443534.5\n",
      "Elapsed Time: 0.55min\n",
      "[epoch: 34]\n",
      "\tTrain AUC: 0.5200656.5\n",
      "\tTest AUC: 0.49443495.5\n",
      "Elapsed Time: 0.55min\n",
      "[epoch: 36]\n",
      "\tTrain AUC: 0.52005637.5\n",
      "\tTest AUC: 0.4944347.5\n",
      "Elapsed Time: 0.56min\n",
      "[epoch: 38]\n",
      "\tTrain AUC: 0.5200478.5\n",
      "\tTest AUC: 0.49443457.5\n",
      "Elapsed Time: 0.57min\n",
      "[epoch: 40]\n",
      "\tTrain AUC: 0.5200307.5\n",
      "\tTest AUC: 0.4944345.5\n",
      "Elapsed Time: 0.58min\n",
      "[epoch: 42]\n",
      "\tTrain AUC: 0.52002186.5\n",
      "\tTest AUC: 0.4944344.5\n",
      "Elapsed Time: 0.57min\n",
      "[epoch: 44]\n",
      "\tTrain AUC: 0.52001315.5\n",
      "\tTest AUC: 0.49443436.5\n",
      "Elapsed Time: 0.59min\n",
      "[epoch: 46]\n",
      "\tTrain AUC: 0.5199956.5\n",
      "\tTest AUC: 0.49443412.5\n",
      "Elapsed Time: 0.59min\n",
      "[epoch: 48]\n",
      "\tTrain AUC: 0.51997817.5\n",
      "\tTest AUC: 0.49443394.5\n",
      "Elapsed Time: 0.56min\n",
      "[epoch: 50]\n",
      "\tTrain AUC: 0.51994544.5\n",
      "\tTest AUC: 0.4944337.5\n",
      "Elapsed Time: 0.55min\n",
      "[epoch: 52]\n",
      "\tTrain AUC: 0.5199381.5\n",
      "\tTest AUC: 0.49443364.5\n",
      "Elapsed Time: 0.56min\n",
      "[epoch: 54]\n",
      "\tTrain AUC: 0.51992965.5\n",
      "\tTest AUC: 0.4944335.5\n",
      "Elapsed Time: 0.54min\n",
      "[epoch: 56]\n",
      "\tTrain AUC: 0.5199121.5\n",
      "\tTest AUC: 0.49443337.5\n",
      "Elapsed Time: 0.59min\n",
      "[epoch: 58]\n",
      "\tTrain AUC: 0.5198946.5\n",
      "\tTest AUC: 0.4944332.5\n",
      "Elapsed Time: 0.56min\n",
      "[epoch: 60]\n",
      "\tTrain AUC: 0.51988584.5\n",
      "\tTest AUC: 0.494433.5\n",
      "Elapsed Time: 0.56min\n",
      "[epoch: 62]\n",
      "\tTrain AUC: 0.51985955.5\n",
      "\tTest AUC: 0.49443284.5\n",
      "Elapsed Time: 0.56min\n",
      "[epoch: 64]\n",
      "\tTrain AUC: 0.51985955.5\n",
      "\tTest AUC: 0.49443263.5\n",
      "Elapsed Time: 0.57min\n",
      "[epoch: 66]\n",
      "\tTrain AUC: 0.51983327.5\n",
      "\tTest AUC: 0.49443248.5\n",
      "Elapsed Time: 0.57min\n",
      "[epoch: 68]\n",
      "\tTrain AUC: 0.5198071.5\n",
      "\tTest AUC: 0.49443233.5\n",
      "Elapsed Time: 0.56min\n",
      "[epoch: 70]\n",
      "\tTrain AUC: 0.51980704.5\n",
      "\tTest AUC: 0.49443218.5\n",
      "Elapsed Time: 0.57min\n",
      "[epoch: 72]\n",
      "\tTrain AUC: 0.51980704.5\n",
      "\tTest AUC: 0.49443197.5\n",
      "Elapsed Time: 0.56min\n",
      "[epoch: 74]\n",
      "\tTrain AUC: 0.51979834.5\n",
      "\tTest AUC: 0.4944319.5\n",
      "Elapsed Time: 0.55min\n",
      "[epoch: 76]\n",
      "\tTrain AUC: 0.5197983.5\n",
      "\tTest AUC: 0.49443176.5\n",
      "Elapsed Time: 0.57min\n",
      "[epoch: 78]\n",
      "\tTrain AUC: 0.5197895.5\n",
      "\tTest AUC: 0.49443167.5\n",
      "Elapsed Time: 0.59min\n",
      "[epoch: 80]\n",
      "\tTrain AUC: 0.51978165.5\n",
      "\tTest AUC: 0.49443167.5\n",
      "Elapsed Time: 0.57min\n",
      "[epoch: 82]\n",
      "\tTrain AUC: 0.51978165.5\n",
      "\tTest AUC: 0.49443153.5\n",
      "Elapsed Time: 0.54min\n",
      "[epoch: 84]\n",
      "\tTrain AUC: 0.5197649.5\n",
      "\tTest AUC: 0.49443147.5\n",
      "Elapsed Time: 0.56min\n",
      "[epoch: 86]\n",
      "\tTrain AUC: 0.5197561.5\n",
      "\tTest AUC: 0.4944314.5\n",
      "Elapsed Time: 0.56min\n",
      "[epoch: 88]\n",
      "\tTrain AUC: 0.5197474.5\n",
      "\tTest AUC: 0.49443132.5\n",
      "Elapsed Time: 0.57min\n",
      "[epoch: 90]\n",
      "\tTrain AUC: 0.51973855.5\n",
      "\tTest AUC: 0.49443132.5\n",
      "Elapsed Time: 0.57min\n",
      "[epoch: 92]\n",
      "\tTrain AUC: 0.5197298.5\n",
      "\tTest AUC: 0.49443126.5\n",
      "Elapsed Time: 0.59min\n",
      "[epoch: 94]\n",
      "\tTrain AUC: 0.51970434.5\n",
      "\tTest AUC: 0.4944312.5\n",
      "Elapsed Time: 0.55min\n",
      "[epoch: 96]\n",
      "\tTrain AUC: 0.51970434.5\n",
      "\tTest AUC: 0.49443117.5\n",
      "Elapsed Time: 0.6min\n",
      "[epoch: 98]\n",
      "\tTrain AUC: 0.5196956.5\n",
      "\tTest AUC: 0.49443117.5\n",
      "Elapsed Time: 0.56min\n",
      "[epoch: 100]\n",
      "\tTrain AUC: 0.5196868.5\n",
      "\tTest AUC: 0.49443114.5\n",
      "Elapsed Time: 0.58min\n",
      "[epoch: 102]\n",
      "\tTrain AUC: 0.5196868.5\n",
      "\tTest AUC: 0.49443117.5\n",
      "Elapsed Time: 0.54min\n",
      "[epoch: 104]\n",
      "\tTrain AUC: 0.51967824.5\n",
      "\tTest AUC: 0.49443117.5\n",
      "Elapsed Time: 0.56min\n",
      "[epoch: 106]\n",
      "\tTrain AUC: 0.51967824.5\n",
      "\tTest AUC: 0.49443117.5\n",
      "Elapsed Time: 0.55min\n",
      "[epoch: 108]\n",
      "\tTrain AUC: 0.51967824.5\n",
      "\tTest AUC: 0.4944311.5\n",
      "Elapsed Time: 0.56min\n",
      "[epoch: 110]\n",
      "\tTrain AUC: 0.51967824.5\n",
      "\tTest AUC: 0.49443117.5\n",
      "Elapsed Time: 0.55min\n",
      "[epoch: 112]\n",
      "\tTrain AUC: 0.51967824.5\n",
      "\tTest AUC: 0.49443117.5\n",
      "Elapsed Time: 0.56min\n",
      "[epoch: 114]\n",
      "\tTrain AUC: 0.51967824.5\n",
      "\tTest AUC: 0.4944311.5\n",
      "Elapsed Time: 0.56min\n",
      "[epoch: 116]\n",
      "\tTrain AUC: 0.51967824.5\n",
      "\tTest AUC: 0.49443117.5\n",
      "Elapsed Time: 0.55min\n",
      "[epoch: 118]\n",
      "\tTrain AUC: 0.51967824.5\n",
      "\tTest AUC: 0.49443117.5\n",
      "Elapsed Time: 0.56min\n",
      "[epoch: 120]\n",
      "\tTrain AUC: 0.51967824.5\n",
      "\tTest AUC: 0.49443114.5\n",
      "Elapsed Time: 0.54min\n",
      "[epoch: 122]\n",
      "\tTrain AUC: 0.51967824.5\n",
      "\tTest AUC: 0.4944311.5\n",
      "Elapsed Time: 0.59min\n",
      "[epoch: 124]\n",
      "\tTrain AUC: 0.51967824.5\n",
      "\tTest AUC: 0.4944311.5\n",
      "Elapsed Time: 0.57min\n",
      "[epoch: 126]\n",
      "\tTrain AUC: 0.51967824.5\n",
      "\tTest AUC: 0.4944311.5\n",
      "Elapsed Time: 0.55min\n",
      "[epoch: 128]\n",
      "\tTrain AUC: 0.5196695.5\n",
      "\tTest AUC: 0.49443117.5\n",
      "Elapsed Time: 0.57min\n",
      "[epoch: 130]\n",
      "\tTrain AUC: 0.5196695.5\n",
      "\tTest AUC: 0.4944311.5\n",
      "Elapsed Time: 0.56min\n",
      "[epoch: 132]\n",
      "\tTrain AUC: 0.5196694.5\n",
      "\tTest AUC: 0.49443117.5\n",
      "Elapsed Time: 0.59min\n",
      "[epoch: 134]\n",
      "\tTrain AUC: 0.5196607.5\n",
      "\tTest AUC: 0.4944312.5\n",
      "Elapsed Time: 0.56min\n",
      "[epoch: 136]\n",
      "\tTrain AUC: 0.5196607.5\n",
      "\tTest AUC: 0.4944311.5\n",
      "Elapsed Time: 0.57min\n",
      "[epoch: 138]\n",
      "\tTrain AUC: 0.5196519.5\n",
      "\tTest AUC: 0.4944311.5\n",
      "Elapsed Time: 0.59min\n",
      "[epoch: 140]\n",
      "\tTrain AUC: 0.5196431.5\n",
      "\tTest AUC: 0.4944311.5\n",
      "Elapsed Time: 0.57min\n",
      "[epoch: 142]\n",
      "\tTrain AUC: 0.5196431.5\n",
      "\tTest AUC: 0.49443117.5\n",
      "Elapsed Time: 0.54min\n",
      "[epoch: 144]\n",
      "\tTrain AUC: 0.5196431.5\n",
      "\tTest AUC: 0.49443117.5\n",
      "Elapsed Time: 0.56min\n",
      "[epoch: 146]\n",
      "\tTrain AUC: 0.5196431.5\n",
      "\tTest AUC: 0.49443114.5\n",
      "Elapsed Time: 0.56min\n",
      "[epoch: 148]\n",
      "\tTrain AUC: 0.5196431.5\n",
      "\tTest AUC: 0.49443117.5\n",
      "Elapsed Time: 0.58min\n",
      "[epoch: 150]\n",
      "\tTrain AUC: 0.51963437.5\n",
      "\tTest AUC: 0.49443117.5\n",
      "Elapsed Time: 0.55min\n",
      "[epoch: 152]\n",
      "\tTrain AUC: 0.51963437.5\n",
      "\tTest AUC: 0.4944311.5\n",
      "Elapsed Time: 0.55min\n",
      "[epoch: 154]\n",
      "\tTrain AUC: 0.5196343.5\n",
      "\tTest AUC: 0.49443117.5\n",
      "Elapsed Time: 0.54min\n",
      "[epoch: 156]\n",
      "\tTrain AUC: 0.51963437.5\n",
      "\tTest AUC: 0.4944311.5\n",
      "Elapsed Time: 0.58min\n",
      "[epoch: 158]\n",
      "\tTrain AUC: 0.51963437.5\n",
      "\tTest AUC: 0.49443117.5\n",
      "Elapsed Time: 0.57min\n",
      "[epoch: 160]\n",
      "\tTrain AUC: 0.51963437.5\n",
      "\tTest AUC: 0.49443117.5\n",
      "Elapsed Time: 0.58min\n",
      "[epoch: 162]\n",
      "\tTrain AUC: 0.51963437.5\n",
      "\tTest AUC: 0.4944311.5\n",
      "Elapsed Time: 0.55min\n",
      "[epoch: 164]\n",
      "\tTrain AUC: 0.51962554.5\n",
      "\tTest AUC: 0.4944311.5\n",
      "Elapsed Time: 0.55min\n",
      "[epoch: 166]\n",
      "\tTrain AUC: 0.51962554.5\n",
      "\tTest AUC: 0.49443114.5\n",
      "Elapsed Time: 0.55min\n",
      "[epoch: 168]\n",
      "\tTrain AUC: 0.51962554.5\n",
      "\tTest AUC: 0.4944312.5\n",
      "Elapsed Time: 0.55min\n",
      "[epoch: 170]\n",
      "\tTrain AUC: 0.51962554.5\n",
      "\tTest AUC: 0.49443117.5\n",
      "Elapsed Time: 0.57min\n",
      "[epoch: 172]\n",
      "\tTrain AUC: 0.51962554.5\n",
      "\tTest AUC: 0.4944312.5\n",
      "Elapsed Time: 0.54min\n",
      "[epoch: 174]\n",
      "\tTrain AUC: 0.5196255.5\n",
      "\tTest AUC: 0.49443117.5\n",
      "Elapsed Time: 0.57min\n",
      "[epoch: 176]\n",
      "\tTrain AUC: 0.51962554.5\n",
      "\tTest AUC: 0.49443117.5\n",
      "Elapsed Time: 0.59min\n",
      "[epoch: 178]\n",
      "\tTrain AUC: 0.51962554.5\n",
      "\tTest AUC: 0.49443117.5\n",
      "Elapsed Time: 0.54min\n",
      "[epoch: 180]\n",
      "\tTrain AUC: 0.51962554.5\n",
      "\tTest AUC: 0.4944312.5\n",
      "Elapsed Time: 0.57min\n",
      "[epoch: 182]\n",
      "\tTrain AUC: 0.5196168.5\n",
      "\tTest AUC: 0.4944312.5\n",
      "Elapsed Time: 0.55min\n",
      "[epoch: 184]\n",
      "\tTrain AUC: 0.5196167.5\n",
      "\tTest AUC: 0.4944312.5\n",
      "Elapsed Time: 0.56min\n",
      "[epoch: 186]\n",
      "\tTrain AUC: 0.5196168.5\n",
      "\tTest AUC: 0.49443126.5\n",
      "Elapsed Time: 0.57min\n",
      "[epoch: 188]\n",
      "\tTrain AUC: 0.5196168.5\n",
      "\tTest AUC: 0.4944312.5\n",
      "Elapsed Time: 0.58min\n",
      "[epoch: 190]\n",
      "\tTrain AUC: 0.5196168.5\n",
      "\tTest AUC: 0.49443117.5\n",
      "Elapsed Time: 0.55min\n",
      "[epoch: 192]\n",
      "\tTrain AUC: 0.5196168.5\n",
      "\tTest AUC: 0.49443117.5\n",
      "Elapsed Time: 0.56min\n",
      "[epoch: 194]\n",
      "\tTrain AUC: 0.5196168.5\n",
      "\tTest AUC: 0.49443117.5\n",
      "Elapsed Time: 0.55min\n",
      "[epoch: 196]\n",
      "\tTrain AUC: 0.519608.5\n",
      "\tTest AUC: 0.49443117.5\n",
      "Elapsed Time: 0.6min\n",
      "[epoch: 198]\n",
      "\tTrain AUC: 0.519608.5\n",
      "\tTest AUC: 0.49443117.5\n",
      "Elapsed Time: 0.59min\n",
      "[epoch: 200]\n",
      "\tTrain AUC: 0.519608.5\n",
      "\tTest AUC: 0.49443126.5\n",
      "Elapsed Time: 0.57min\n"
     ]
    }
   ],
   "source": [
    "#EPOCHS ITERATIONS\n",
    "EPOCHS_INCR = 2\n",
    "EPOCHS = 200\n",
    "iterations = range(\n",
    "    EPOCHS_INCR, \n",
    "    EPOCHS + EPOCHS_INCR, \n",
    "    EPOCHS_INCR)\n",
    "\n",
    "#Log Variables (Train/Test)\n",
    "train_auc = []\n",
    "test_auc = []\n",
    "\n",
    "#Train Model\n",
    "model = LightFM(\n",
    "    learning_rate=0.001,\n",
    "    item_alpha=.1,\n",
    "    no_components=30,\n",
    "    loss='warp')\n",
    "\n",
    "for epoch in iterations:\n",
    "    print(\"[epoch: %s]\" % epoch)\n",
    "    start_time = time.time()\n",
    "\n",
    "    model.fit_partial(\n",
    "        train_coo, \n",
    "        epochs=EPOCHS_INCR,\n",
    "        item_features=scipy.sparse.csr_matrix(i_features.values),\n",
    "        num_threads=N_JOBS)\n",
    "    \n",
    "    train_auc_local = auc_score(\n",
    "        model,\n",
    "        train_coo,\n",
    "        item_features=scipy.sparse.csr_matrix(i_features.values),\n",
    "        num_threads=N_JOBS).mean()\n",
    "    train_auc.append(train_auc_local)\n",
    "    \n",
    "    test_auc_local = auc_score(\n",
    "        model,\n",
    "        test_coo,\n",
    "        item_features=scipy.sparse.csr_matrix(i_features.values),\n",
    "        num_threads=N_JOBS).mean()\n",
    "    test_auc.append(test_auc_local)\n",
    "    \n",
    "    print('\\tTrain AUC: %s.5' % train_auc_local)\n",
    "    print('\\tTest AUC: %s.5' % test_auc_local)\n",
    "    \n",
    "    print(\"Elapsed Time: %smin\" % round(\n",
    "        (time.time() - start_time)/60, 2))"
   ]
  },
  {
   "cell_type": "code",
   "execution_count": 7,
   "metadata": {},
   "outputs": [
    {
     "data": {
      "text/plain": [
       "<matplotlib.axes._subplots.AxesSubplot at 0x7f612458dd30>"
      ]
     },
     "execution_count": 7,
     "metadata": {},
     "output_type": "execute_result"
    },
    {
     "data": {
      "image/png": "[encoded data removed]",
      "text/plain": [
       "<Figure size 1296x720 with 1 Axes>"
      ]
     },
     "metadata": {},
     "output_type": "display_data"
    }
   ],
   "source": [
    "fig, ax = plt.subplots(1, 1)\n",
    "\n",
    "pd.Series(train_auc).plot(figsize=(18, 10), ax=ax)\n",
    "pd.Series(test_auc).plot(figsize=(18, 10), ax=ax)"
   ]
  },
  {
   "cell_type": "markdown",
   "metadata": {},
   "source": [
    "# Train Precision / Test Precision"
   ]
  },
  {
   "cell_type": "markdown",
   "metadata": {},
   "source": [
    "# GB"
   ]
  },
  {
   "cell_type": "code",
   "execution_count": 8,
   "metadata": {},
   "outputs": [],
   "source": [
    "#Get embeddings from RecSys Model\n",
    "# item_emb = pd.DataFrame(model.item_embeddings)\n",
    "# item_emb = item_emb.add_prefix(\"i_latent_\")\n",
    "\n",
    "user_emb = pd.DataFrame(model.user_embeddings)\n",
    "user_emb = user_emb.add_prefix(\"u_latent_\")\n",
    "\n",
    "#Join all items and get unique SEQ_ID, ORI_ID pairs\n",
    "ui_trans = pd.concat([train, test], axis=0)\n",
    "\n",
    "user_ids = ui_trans[[SEQ_ID_USER, ORI_ID_USER]].drop_duplicates()\n",
    "# item_ids = ui_trans[[SEQ_ID_ITEM, ORI_ID_ITEM]].drop_duplicates()\n",
    "\n",
    "#user/item embeddings original IDs\n",
    "user_emb[ORI_ID_USER] = user_ids[ORI_ID_USER].values\n",
    "# item_emb[ORI_ID_ITEM] = item_ids[ORI_ID_ITEM].values\n",
    "\n",
    "# #Set IDs as index\n",
    "user_emb.set_index(ORI_ID_USER, inplace=True)\n",
    "# item_emb.set_index(ORI_ID_ITEM, inplace=True)"
   ]
  },
  {
   "cell_type": "code",
   "execution_count": 9,
   "metadata": {},
   "outputs": [],
   "source": [
    "\"\"\"\n",
    "For the classification task we will merely use \n",
    "the user embedding obtained from the RecSys model\n",
    "in order to predict the movie genre a user will\n",
    "watch.\n",
    "\"\"\"\n",
    "\n",
    "#Get candidates for the task\n",
    "candidates_classification = test.sort_values(\n",
    "    'timestamp',\n",
    "    ascending=True\n",
    ").drop_duplicates(\n",
    "    SEQ_ID_USER,\n",
    "    keep='first')"
   ]
  },
  {
   "cell_type": "code",
   "execution_count": 10,
   "metadata": {},
   "outputs": [],
   "source": [
    "#Split Train/Test\n",
    "train_portion = .8\n",
    "n = candidates_classification.shape[0]\n",
    "train_size = int(n * train_portion)\n",
    "\n",
    "candidates_classification.reset_index(inplace=True)\n",
    "X_train_ids = candidates_classification.sample(train_size)\n",
    "X_test_ids = candidates_classification[~candidates_classification.index.isin(X_train_ids.index)]\n",
    "\n",
    "X_train_ids = X_train_ids[[SEQ_ID_ITEM, ORI_ID_USER]]\n",
    "X_test_ids = X_test_ids[[SEQ_ID_ITEM, ORI_ID_USER]]"
   ]
  },
  {
   "cell_type": "code",
   "execution_count": 11,
   "metadata": {},
   "outputs": [],
   "source": [
    "#Order embeddings according to train/test respectively\n",
    "X_train = user_emb.loc[X_train_ids[ORI_ID_USER]]\n",
    "X_test = user_emb.loc[X_test_ids[ORI_ID_USER]]\n",
    "\n",
    "#Get genres of train/test respectively\n",
    "item_catalogue.index = item_catalogue[SEQ_ID_ITEM]\n",
    "\n",
    "y_train = item_catalogue.loc[X_train_ids[SEQ_ID_ITEM]]['genres']\n",
    "y_test = item_catalogue.loc[X_test_ids[SEQ_ID_ITEM]]['genres']"
   ]
  },
  {
   "cell_type": "code",
   "execution_count": 12,
   "metadata": {},
   "outputs": [],
   "source": [
    "all_genres = {}\n",
    "for genres in y_train:\n",
    "    for g in genres:\n",
    "        if g in all_genres:\n",
    "            all_genres[g] += 1\n",
    "        else:\n",
    "            all_genres[g] = 1\n",
    "            \n",
    "all_genres = pd.Series(all_genres)\n",
    "\n",
    "genres_to_num = dict([(c, it) for it, c in enumerate(all_genres.keys())])"
   ]
  },
  {
   "cell_type": "code",
   "execution_count": 13,
   "metadata": {},
   "outputs": [
    {
     "data": {
      "image/png": "[encoded data removed]",
      "text/plain": [
       "<Figure size 1296x216 with 2 Axes>"
      ]
     },
     "metadata": {},
     "output_type": "display_data"
    }
   ],
   "source": [
    "import matplotlib.pyplot as plt\n",
    "\n",
    "fig, ax = plt.subplots(1, 2, figsize=(18, 3))\n",
    "(y_train.value_counts()).sort_index().plot(\n",
    "    kind='bar', \n",
    "    grid=True, \n",
    "    ax=ax[0]);\n",
    "\n",
    "(y_test.value_counts()).sort_index().plot(\n",
    "    kind='bar', \n",
    "    grid=True, \n",
    "    ax=ax[1]);"
   ]
  },
  {
   "cell_type": "markdown",
   "metadata": {},
   "source": [
    "# XGB Simple"
   ]
  },
  {
   "cell_type": "code",
   "execution_count": 14,
   "metadata": {},
   "outputs": [
    {
     "data": {
      "text/plain": [
       "XGBClassifier(base_score=0.5, booster='gbtree', colsample_bylevel=1,\n",
       "       colsample_bytree=1, gamma=0, learning_rate=0.1, max_delta_step=0,\n",
       "       max_depth=3, min_child_weight=1, missing=None, n_estimators=200,\n",
       "       n_jobs=6, nthread=None, objective='multi:softprob', random_state=0,\n",
       "       reg_alpha=0, reg_lambda=1, scale_pos_weight=1, seed=None,\n",
       "       silent=True, subsample=1)"
      ]
     },
     "execution_count": 14,
     "metadata": {},
     "output_type": "execute_result"
    }
   ],
   "source": [
    "import xgboost as xgb\n",
    "\n",
    "cls = xgb.XGBClassifier(n_estimators=200, n_jobs=N_JOBS)\n",
    "cls.fit(pd.DataFrame(X_train.values), y_train)"
   ]
  },
  {
   "cell_type": "code",
   "execution_count": 15,
   "metadata": {},
   "outputs": [
    {
     "name": "stderr",
     "output_type": "stream",
     "text": [
      "/home/ubuntu/anaconda3/lib/python3.6/site-packages/sklearn/preprocessing/label.py:151: DeprecationWarning: The truth value of an empty array is ambiguous. Returning False, but in future this will result in an error. Use `array.size > 0` to check that an array is not empty.\n",
      "  if diff:\n"
     ]
    },
    {
     "data": {
      "image/png": "[encoded data removed]",
      "text/plain": [
       "<Figure size 1296x360 with 2 Axes>"
      ]
     },
     "metadata": {},
     "output_type": "display_data"
    }
   ],
   "source": [
    "import matplotlib.pyplot as plt\n",
    "\n",
    "fig, ax = plt.subplots(1, 2)\n",
    "train_report = evalutils.class_report(\n",
    "    y_true=y_train,\n",
    "    y_pred=cls.predict(pd.DataFrame(X_train.values)))\n",
    "\n",
    "train_report.sort_values('support')[['precision', 'recall' ,'f1-score']].plot(\n",
    "    kind='bar',\n",
    "    grid=True,\n",
    "    ylim=(0, 1),\n",
    "    ax=ax[0])\n",
    "\n",
    "train_report.drop('Global')[['support', 'pred']].sort_values('support').plot(\n",
    "    kind='bar',\n",
    "    grid=True,\n",
    "    ax=ax[1])\n",
    "\n",
    "fig.set_size_inches(18, 5)"
   ]
  },
  {
   "cell_type": "code",
   "execution_count": 16,
   "metadata": {},
   "outputs": [
    {
     "name": "stderr",
     "output_type": "stream",
     "text": [
      "/home/ubuntu/anaconda3/lib/python3.6/site-packages/sklearn/preprocessing/label.py:151: DeprecationWarning: The truth value of an empty array is ambiguous. Returning False, but in future this will result in an error. Use `array.size > 0` to check that an array is not empty.\n",
      "  if diff:\n"
     ]
    },
    {
     "data": {
      "image/png": "[encoded data removed]",
      "text/plain": [
       "<Figure size 1296x360 with 2 Axes>"
      ]
     },
     "metadata": {},
     "output_type": "display_data"
    }
   ],
   "source": [
    "fig, ax = plt.subplots(1, 2)\n",
    "test_report = evalutils.class_report(\n",
    "    y_true=y_test,\n",
    "    y_pred=cls.predict(pd.DataFrame(X_test.values)))\n",
    "\n",
    "test_report.sort_values('support')[['precision', 'recall' ,'f1-score']].plot(\n",
    "    kind='bar',\n",
    "    grid=True,\n",
    "    ylim=(0, 1),\n",
    "    ax=ax[0])\n",
    "\n",
    "test_report.drop('Global')[['support', 'pred']].sort_values('support').plot(\n",
    "    kind='bar',\n",
    "    grid=True,\n",
    "    ax=ax[1])\n",
    "\n",
    "fig.set_size_inches(18, 5)"
   ]
  },
  {
   "cell_type": "markdown",
   "metadata": {},
   "source": [
    "# XGB Binary"
   ]
  },
  {
   "cell_type": "code",
   "execution_count": 17,
   "metadata": {},
   "outputs": [],
   "source": [
    "genres = pd.concat([y_train, y_test]).unique()\n",
    "id_genre = dict([(genre, it) for it, genre in enumerate(genres)])"
   ]
  },
  {
   "cell_type": "code",
   "execution_count": 18,
   "metadata": {},
   "outputs": [],
   "source": [
    "import sys; sys.path.append(\"/home/ubuntu/XGB-BINARY/\")\n",
    "from XGBBinary import XGBBinary\n",
    "\n",
    "gridsearch = {\n",
    "    'learning_rate': [.1, .01],\n",
    "    'gamma': [.1, 1, .5],\n",
    "    'n_estimators': [100],\n",
    "    'n_jobs': [6],\n",
    "    'eval_set': [[(pd.DataFrame(X_test.values), y_test.apply(lambda x: id_genre[x]))]],\n",
    "    'early_stopping': [10, 50, 100],\n",
    "}\n",
    "\n",
    "cls_bin = XGBBinary(\n",
    "    gridsearch=gridsearch,\n",
    "    cross_validation=2,\n",
    "    verbose=False)\n",
    "\n",
    "cls_bin.fit(\n",
    "    X_train.values, \n",
    "    y_train.apply(lambda x: id_genre[x]))"
   ]
  },
  {
   "cell_type": "code",
   "execution_count": 19,
   "metadata": {},
   "outputs": [
    {
     "data": {
      "image/png": "[encoded data removed]",
      "text/plain": [
       "<Figure size 1296x360 with 2 Axes>"
      ]
     },
     "metadata": {},
     "output_type": "display_data"
    }
   ],
   "source": [
    "genre_id = dict([(v,k) for k,v in id_genre.items()])\n",
    "\n",
    "fig, ax = plt.subplots(1, 2)\n",
    "test_report = evalutils.class_report(\n",
    "    y_true=y_train,\n",
    "    y_pred=[genre_id[y] for y in cls_bin.predict(X_train.values)])\n",
    "\n",
    "test_report.sort_values('support')[['precision', 'recall' ,'f1-score']].plot(\n",
    "    kind='bar',\n",
    "    ylim=(0, 1),\n",
    "    grid=True,\n",
    "    ax=ax[0])\n",
    "\n",
    "test_report.drop('Global')[['support', 'pred']].sort_values('support').plot(\n",
    "    kind='bar',\n",
    "    grid=True,\n",
    "    ax=ax[1])\n",
    "\n",
    "fig.set_size_inches(18, 5)"
   ]
  },
  {
   "cell_type": "code",
   "execution_count": 20,
   "metadata": {},
   "outputs": [
    {
     "data": {
      "image/png": "[encoded data removed]",
      "text/plain": [
       "<Figure size 1296x360 with 2 Axes>"
      ]
     },
     "metadata": {},
     "output_type": "display_data"
    }
   ],
   "source": [
    "fig, ax = plt.subplots(1, 2)\n",
    "test_report = evalutils.class_report(\n",
    "    y_true=y_test,\n",
    "    y_pred=[genre_id[y] for y in cls_bin.predict(X_test.values)])\n",
    "\n",
    "test_report.sort_values('support')[['precision', 'recall' ,'f1-score']].plot(\n",
    "    kind='bar',\n",
    "    ylim=(0, 1),\n",
    "    grid=True,\n",
    "    ax=ax[0])\n",
    "\n",
    "test_report.drop('Global')[['support', 'pred']].sort_values('support').plot(\n",
    "    kind='bar',\n",
    "    grid=True,\n",
    "    ax=ax[1])\n",
    "\n",
    "fig.set_size_inches(18, 5)"
   ]
  },
  {
   "cell_type": "code",
   "execution_count": 21,
   "metadata": {},
   "outputs": [
    {
     "data": {
      "image/png": "[encoded data removed]",
      "text/plain": [
       "<Figure size 1296x360 with 2 Axes>"
      ]
     },
     "metadata": {},
     "output_type": "display_data"
    }
   ],
   "source": [
    "fig, ax = plt.subplots(1, 2)\n",
    "test_report = evalutils.class_report(\n",
    "    y_true=y_train,\n",
    "    y_pred=y_train.sample(y_train.shape[0]))\n",
    "\n",
    "test_report.sort_values('support')[['precision', 'recall' ,'f1-score']].plot(\n",
    "    kind='bar',\n",
    "    grid=True,\n",
    "    ylim=(0, .5),\n",
    "    ax=ax[0])\n",
    "\n",
    "test_report.drop('Global')[['support', 'pred']].sort_values('support').plot(\n",
    "    kind='bar',\n",
    "    grid=True,\n",
    "    ax=ax[1])\n",
    "\n",
    "fig.set_size_inches(18, 5)"
   ]
  }
 ],
 "metadata": {
  "kernelspec": {
   "display_name": "Python 3",
   "language": "python",
   "name": "python3"
  },
  "language_info": {
   "codemirror_mode": {
    "name": "ipython",
    "version": 3
   },
   "file_extension": ".py",
   "mimetype": "text/x-python",
   "name": "python",
   "nbconvert_exporter": "python",
   "pygments_lexer": "ipython3",
   "version": "3.6.4"
  }
 },
 "nbformat": 4,
 "nbformat_minor": 2
}
