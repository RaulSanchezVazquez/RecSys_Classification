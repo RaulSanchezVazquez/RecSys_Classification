{
 "cells": [
  {
   "cell_type": "code",
   "execution_count": 18,
   "metadata": {},
   "outputs": [],
   "source": [
    "import pandas as pd\n",
    "import numpy as np\n",
    "from sklearn.feature_extraction import DictVectorizer\n",
    "from sklearn.model_selection import train_test_split\n",
    "from sklearn.datasets import make_classification\n",
    "from sklearn.metrics import log_loss\n",
    "from sklearn.metrics import classification_report\n",
    "\n",
    "import xgboost as xgb\n",
    "from fastFM import als\n",
    "\n",
    "import evalutils\n",
    "\n",
    "X, y = make_classification(\n",
    "    n_samples=10000,\n",
    "    n_features=35,\n",
    "    n_informative=3,\n",
    "    n_redundant=2,\n",
    "    n_repeated=0,\n",
    "    n_classes=2,\n",
    "    n_clusters_per_class=4,\n",
    "    weights=[.5],\n",
    "    flip_y=0.4,\n",
    "    class_sep=.1,\n",
    "    hypercube=True,\n",
    "    shift=0.0,\n",
    "    scale=1.0,\n",
    "    shuffle=True,\n",
    "    random_state=42)\n",
    "\n",
    "y[y ==0] = -1\n",
    "\n",
    "X_train, X_test, y_train, y_test = train_test_split(\n",
    "    X, y, \n",
    "    test_size=0.1, \n",
    "    random_state=42)"
   ]
  },
  {
   "cell_type": "code",
   "execution_count": 19,
   "metadata": {},
   "outputs": [
    {
     "name": "stdout",
     "output_type": "stream",
     "text": [
      "log loss: 14.955452497274655\n",
      "             precision    recall  f1-score   support\n",
      "\n",
      "         -1       0.59      0.62      0.60       531\n",
      "          1       0.54      0.51      0.52       469\n",
      "\n",
      "avg / total       0.57      0.57      0.57      1000\n",
      "\n"
     ]
    }
   ],
   "source": [
    "fm_model = als.FMClassification()\n",
    "\n",
    "v = DictVectorizer()\n",
    "fm_train = v.fit_transform([{v: k for k, v in dict(zip(i, range(len(i)))).items()}  for i in X_train])\n",
    "fm_test = v.fit_transform([{v: k for k, v in dict(zip(i, range(len(i)))).items()}  for i in X_test])\n",
    "\n",
    "fm_model.fit(\n",
    "    fm_train,\n",
    "    y_train)\n",
    "\n",
    "fm_log_loss = log_loss(\n",
    "        y_test,\n",
    "        fm_model.predict(fm_test)\n",
    ")\n",
    "print(\"log loss: %s\" % fm_log_loss)\n",
    "\n",
    "print(classification_report(\n",
    "    y_true=y_test,\n",
    "    y_pred=fm_model.predict(fm_test))\n",
    ")"
   ]
  },
  {
   "cell_type": "code",
   "execution_count": 20,
   "metadata": {},
   "outputs": [
    {
     "name": "stdout",
     "output_type": "stream",
     "text": [
      "log loss: 14.161046247437966\n",
      "             precision    recall  f1-score   support\n",
      "\n",
      "         -1       0.61      0.65      0.63       531\n",
      "          1       0.57      0.52      0.54       469\n",
      "\n",
      "avg / total       0.59      0.59      0.59      1000\n",
      "\n"
     ]
    },
    {
     "name": "stderr",
     "output_type": "stream",
     "text": [
      "/home/ubuntu/anaconda3/lib/python3.6/site-packages/sklearn/preprocessing/label.py:151: DeprecationWarning: The truth value of an empty array is ambiguous. Returning False, but in future this will result in an error. Use `array.size > 0` to check that an array is not empty.\n",
      "  if diff:\n",
      "/home/ubuntu/anaconda3/lib/python3.6/site-packages/sklearn/preprocessing/label.py:151: DeprecationWarning: The truth value of an empty array is ambiguous. Returning False, but in future this will result in an error. Use `array.size > 0` to check that an array is not empty.\n",
      "  if diff:\n"
     ]
    }
   ],
   "source": [
    "xgb_model = xgb.XGBClassifier()\n",
    "xgb_model.fit(X_train, y_train)\n",
    "\n",
    "xgb_log_loss = log_loss(\n",
    "        y_test,\n",
    "        xgb_model.predict(X_test)\n",
    ")\n",
    "print(\"log loss: %s\" % xgb_log_loss)\n",
    "\n",
    "print(classification_report(\n",
    "    y_true=y_test,\n",
    "    y_pred=xgb_model.predict(X_test))\n",
    ")"
   ]
  }
 ],
 "metadata": {
  "kernelspec": {
   "display_name": "Python 3",
   "language": "python",
   "name": "python3"
  },
  "language_info": {
   "codemirror_mode": {
    "name": "ipython",
    "version": 3
   },
   "file_extension": ".py",
   "mimetype": "text/x-python",
   "name": "python",
   "nbconvert_exporter": "python",
   "pygments_lexer": "ipython3",
   "version": "3.6.4"
  }
 },
 "nbformat": 4,
 "nbformat_minor": 2
}
